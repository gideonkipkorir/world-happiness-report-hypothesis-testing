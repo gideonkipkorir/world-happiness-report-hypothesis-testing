{
  "nbformat": 4,
  "nbformat_minor": 0,
  "metadata": {
    "kernelspec": {
      "display_name": "Python 3",
      "language": "python",
      "name": "python3"
    },
    "language_info": {
      "codemirror_mode": {
        "name": "ipython",
        "version": 3
      },
      "file_extension": ".py",
      "mimetype": "text/x-python",
      "name": "python",
      "nbconvert_exporter": "python",
      "pygments_lexer": "ipython3",
      "version": "3.6.3"
    },
    "colab": {
      "name": "Copy of Copy of Master - Week 5 Core Group Project - World Happiness Report",
      "provenance": [],
      "collapsed_sections": [
        "mg_waeNH7zrO",
        "syi1IaF57zro",
        "Gcx7Akel7zsD",
        "rWJnDhYo7zt9",
        "KCo9jMiY7zud",
        "CQeVYeUs7zuf",
        "rFGZKWCI7zui",
        "rGtdLfbG7zup",
        "uzro00Ak7zu4",
        "QAeeuC-n7zu-"
      ],
      "include_colab_link": true
    }
  },
  "cells": [
    {
      "cell_type": "markdown",
      "metadata": {
        "id": "view-in-github",
        "colab_type": "text"
      },
      "source": [
        "<a href=\"https://colab.research.google.com/github/pkor725/world-happiness-report-hypothesis-testing/blob/master/Copy_of_Copy_of_Master_Week_5_Core_Group_Project_World_Happiness_Report.ipynb\" target=\"_parent\"><img src=\"https://colab.research.google.com/assets/colab-badge.svg\" alt=\"Open In Colab\"/></a>"
      ]
    },
    {
      "cell_type": "markdown",
      "metadata": {
        "id": "02NYlauf7zpV",
        "colab_type": "text"
      },
      "source": [
        "# World Happiness Report\n",
        "\n",
        "## Requirement\n",
        "1. Find and deal with outliers, anomalies, and missing data within the dataset.\n",
        "\n",
        "2. Plot appropriate univariate and bivariate summaries recording our observations.\n",
        "\n",
        "3. Implement the solution by performing hypothesis testing.\n"
      ]
    },
    {
      "cell_type": "markdown",
      "metadata": {
        "id": "oTanxuzR7zpc",
        "colab_type": "text"
      },
      "source": [
        "## 1.0 Import Libraries and Data"
      ]
    },
    {
      "cell_type": "code",
      "metadata": {
        "id": "YncM410Z7zpe",
        "colab_type": "code",
        "colab": {}
      },
      "source": [
        "#Import Python Libraries\n",
        "import pandas as pd\n",
        "import numpy as np\n",
        "import matplotlib.pyplot as plt\n",
        "import seaborn as sns\n",
        "from scipy import stats #For z test Calculation\n",
        "from statsmodels.stats import weightstats as stests #For z test calculation\n",
        "# import pandas_profiling as pp\n",
        "import warnings\n",
        "warnings.simplefilter(action='ignore', category=FutureWarning)"
      ],
      "execution_count": 0,
      "outputs": []
    },
    {
      "cell_type": "code",
      "metadata": {
        "id": "9bZ3YfTX7zpm",
        "colab_type": "code",
        "colab": {}
      },
      "source": [
        "#Increase number of rows and columns displayed\n",
        "pd.set_option('display.max_rows', 500)\n",
        "pd.set_option('display.max_columns', 500)\n",
        "pd.set_option('display.width', 1000)"
      ],
      "execution_count": 0,
      "outputs": []
    },
    {
      "cell_type": "code",
      "metadata": {
        "id": "9Fl7oBBS7zpw",
        "colab_type": "code",
        "colab": {}
      },
      "source": [
        "#Import data\n",
        "df_2015 = pd.read_csv(\"2015.csv\")\n",
        "df_2016 = pd.read_csv(\"2016.csv\")\n",
        "df_2017 = pd.read_csv(\"2017.csv\")\n",
        "df_2018 = pd.read_csv(\"2018.csv\")\n",
        "df_2019 = pd.read_csv(\"2019.csv\")"
      ],
      "execution_count": 0,
      "outputs": []
    },
    {
      "cell_type": "markdown",
      "metadata": {
        "id": "azny88h5OL6o",
        "colab_type": "text"
      },
      "source": [
        "## 2.0 Exploring the Data"
      ]
    },
    {
      "cell_type": "markdown",
      "metadata": {
        "id": "4Fm0ljupOrxr",
        "colab_type": "text"
      },
      "source": [
        "### 2.1 Merging the Dataframes"
      ]
    },
    {
      "cell_type": "code",
      "metadata": {
        "id": "yzX7nInqGByt",
        "colab_type": "code",
        "outputId": "ee185c3e-1bcc-4807-d9c4-189c84c420bc",
        "colab": {
          "base_uri": "https://localhost:8080/",
          "height": 123
        }
      },
      "source": [
        "#Checking that the columns are the same to merge the dataframes\n",
        "print(df_2015.columns)\n",
        "print(df_2016.columns)\n",
        "print(df_2017.columns)\n",
        "print(df_2018.columns)\n",
        "print(df_2019.columns)"
      ],
      "execution_count": 0,
      "outputs": [
        {
          "output_type": "stream",
          "text": [
            "Index(['Country', 'Region', 'Happiness Rank', 'Happiness Score', 'Standard Error', 'Economy (GDP per Capita)', 'Family', 'Health (Life Expectancy)', 'Freedom', 'Trust (Government Corruption)', 'Generosity', 'Dystopia Residual'], dtype='object')\n",
            "Index(['Country', 'Region', 'Happiness Rank', 'Happiness Score', 'Lower Confidence Interval', 'Upper Confidence Interval', 'Economy (GDP per Capita)', 'Family', 'Health (Life Expectancy)', 'Freedom', 'Trust (Government Corruption)', 'Generosity', 'Dystopia Residual'], dtype='object')\n",
            "Index(['Country', 'Happiness.Rank', 'Happiness.Score', 'Whisker.high', 'Whisker.low', 'Economy..GDP.per.Capita.', 'Family', 'Health..Life.Expectancy.', 'Freedom', 'Generosity', 'Trust..Government.Corruption.', 'Dystopia.Residual'], dtype='object')\n",
            "Index(['Overall rank', 'Country or region', 'Score', 'GDP per capita', 'Social support', 'Healthy life expectancy', 'Freedom to make life choices', 'Generosity', 'Perceptions of corruption'], dtype='object')\n",
            "Index(['Overall rank', 'Country or region', 'Score', 'GDP per capita', 'Social support', 'Healthy life expectancy', 'Freedom to make life choices', 'Generosity', 'Perceptions of corruption'], dtype='object')\n"
          ],
          "name": "stdout"
        }
      ]
    },
    {
      "cell_type": "code",
      "metadata": {
        "id": "A-VNONXGB5sO",
        "colab_type": "code",
        "colab": {}
      },
      "source": [
        "#Dropping unnecessary columns\n",
        "df_2015.drop(columns=['Standard Error', 'Region', 'Dystopia Residual'], inplace=True)\n",
        "df_2016.drop(columns=['Lower Confidence Interval', 'Upper Confidence Interval', 'Region', 'Dystopia Residual'], inplace=True)\n",
        "df_2017.drop(columns=['Whisker.high', 'Whisker.low', 'Dystopia.Residual'], inplace=True)"
      ],
      "execution_count": 0,
      "outputs": []
    },
    {
      "cell_type": "code",
      "metadata": {
        "id": "oWYtM7doFNAd",
        "colab_type": "code",
        "colab": {}
      },
      "source": [
        "#Changing the order of 2017 dataframe\n",
        "df_2017 = df_2017[['Country', 'Happiness.Rank', 'Happiness.Score', 'Economy..GDP.per.Capita.', 'Family', 'Health..Life.Expectancy.', 'Freedom', 'Trust..Government.Corruption.', 'Generosity']]"
      ],
      "execution_count": 0,
      "outputs": []
    },
    {
      "cell_type": "code",
      "metadata": {
        "id": "C6o0QpNrDb0r",
        "colab_type": "code",
        "colab": {}
      },
      "source": [
        "#Adding a column with the year of data collection\n",
        "df_2015['Year'] = 2015\n",
        "df_2016['Year'] = 2016\n",
        "df_2017['Year'] = 2017\n",
        "df_2018['Year'] = 2018\n",
        "df_2019['Year'] = 2019"
      ],
      "execution_count": 0,
      "outputs": []
    },
    {
      "cell_type": "code",
      "metadata": {
        "id": "s-sxjuf9JfTP",
        "colab_type": "code",
        "colab": {}
      },
      "source": [
        "df_2015 = df_2015[['Happiness Rank', 'Country', 'Happiness Score', 'Economy (GDP per Capita)', 'Family', 'Health (Life Expectancy)', 'Freedom','Generosity', 'Trust (Government Corruption)', 'Year']]\n",
        "df_2016 = df_2016[['Happiness Rank', 'Country', 'Happiness Score', 'Economy (GDP per Capita)', 'Family', 'Health (Life Expectancy)', 'Freedom','Generosity', 'Trust (Government Corruption)', 'Year']]\n",
        "df_2017 = df_2017[['Happiness.Rank', 'Country', 'Happiness.Score', 'Economy..GDP.per.Capita.', 'Family', 'Health..Life.Expectancy.', 'Freedom','Generosity', 'Trust..Government.Corruption.', 'Year']]"
      ],
      "execution_count": 0,
      "outputs": []
    },
    {
      "cell_type": "code",
      "metadata": {
        "id": "qDh0KQQ2K4n9",
        "colab_type": "code",
        "colab": {}
      },
      "source": [
        "df_2015.columns = ['Overall rank', 'Country or region', 'Score', 'GDP per capita', 'Social support', 'Healthy life expectancy', 'Freedom to make life choices', 'Generosity', 'Perceptions of corruption', 'Year']\n",
        "df_2016.columns = ['Overall rank', 'Country or region', 'Score', 'GDP per capita', 'Social support', 'Healthy life expectancy', 'Freedom to make life choices', 'Generosity', 'Perceptions of corruption', 'Year']\n",
        "df_2017.columns = ['Overall rank', 'Country or region', 'Score', 'GDP per capita', 'Social support', 'Healthy life expectancy', 'Freedom to make life choices', 'Generosity', 'Perceptions of corruption', 'Year']"
      ],
      "execution_count": 0,
      "outputs": []
    },
    {
      "cell_type": "code",
      "metadata": {
        "id": "MsxW1n_5Cy4C",
        "colab_type": "code",
        "outputId": "4c85074d-2fd6-4a8d-a389-8024882bbf22",
        "colab": {
          "base_uri": "https://localhost:8080/",
          "height": 123
        }
      },
      "source": [
        "#Checking the column names\n",
        "print(df_2015.columns)\n",
        "print(df_2016.columns)\n",
        "print(df_2017.columns)\n",
        "print(df_2018.columns)\n",
        "print(df_2019.columns)"
      ],
      "execution_count": 0,
      "outputs": [
        {
          "output_type": "stream",
          "text": [
            "Index(['Overall rank', 'Country or region', 'Score', 'GDP per capita', 'Social support', 'Healthy life expectancy', 'Freedom to make life choices', 'Generosity', 'Perceptions of corruption', 'Year'], dtype='object')\n",
            "Index(['Overall rank', 'Country or region', 'Score', 'GDP per capita', 'Social support', 'Healthy life expectancy', 'Freedom to make life choices', 'Generosity', 'Perceptions of corruption', 'Year'], dtype='object')\n",
            "Index(['Overall rank', 'Country or region', 'Score', 'GDP per capita', 'Social support', 'Healthy life expectancy', 'Freedom to make life choices', 'Generosity', 'Perceptions of corruption', 'Year'], dtype='object')\n",
            "Index(['Overall rank', 'Country or region', 'Score', 'GDP per capita', 'Social support', 'Healthy life expectancy', 'Freedom to make life choices', 'Generosity', 'Perceptions of corruption', 'Year'], dtype='object')\n",
            "Index(['Overall rank', 'Country or region', 'Score', 'GDP per capita', 'Social support', 'Healthy life expectancy', 'Freedom to make life choices', 'Generosity', 'Perceptions of corruption', 'Year'], dtype='object')\n"
          ],
          "name": "stdout"
        }
      ]
    },
    {
      "cell_type": "code",
      "metadata": {
        "id": "rPpMDyAs-okU",
        "colab_type": "code",
        "outputId": "bc5b6fda-0118-4808-b69a-a6e850d23ca4",
        "colab": {
          "base_uri": "https://localhost:8080/",
          "height": 237
        }
      },
      "source": [
        "# Merging the data\n",
        "df = pd.concat([df_2015, df_2016, df_2017, df_2018, df_2019])\n",
        "df.head()"
      ],
      "execution_count": 0,
      "outputs": [
        {
          "output_type": "execute_result",
          "data": {
            "text/html": [
              "<div>\n",
              "<style scoped>\n",
              "    .dataframe tbody tr th:only-of-type {\n",
              "        vertical-align: middle;\n",
              "    }\n",
              "\n",
              "    .dataframe tbody tr th {\n",
              "        vertical-align: top;\n",
              "    }\n",
              "\n",
              "    .dataframe thead th {\n",
              "        text-align: right;\n",
              "    }\n",
              "</style>\n",
              "<table border=\"1\" class=\"dataframe\">\n",
              "  <thead>\n",
              "    <tr style=\"text-align: right;\">\n",
              "      <th></th>\n",
              "      <th>Overall rank</th>\n",
              "      <th>Country or region</th>\n",
              "      <th>Score</th>\n",
              "      <th>GDP per capita</th>\n",
              "      <th>Social support</th>\n",
              "      <th>Healthy life expectancy</th>\n",
              "      <th>Freedom to make life choices</th>\n",
              "      <th>Generosity</th>\n",
              "      <th>Perceptions of corruption</th>\n",
              "      <th>Year</th>\n",
              "    </tr>\n",
              "  </thead>\n",
              "  <tbody>\n",
              "    <tr>\n",
              "      <th>0</th>\n",
              "      <td>1</td>\n",
              "      <td>Switzerland</td>\n",
              "      <td>7.587</td>\n",
              "      <td>1.39651</td>\n",
              "      <td>1.34951</td>\n",
              "      <td>0.94143</td>\n",
              "      <td>0.66557</td>\n",
              "      <td>0.29678</td>\n",
              "      <td>0.41978</td>\n",
              "      <td>2015</td>\n",
              "    </tr>\n",
              "    <tr>\n",
              "      <th>1</th>\n",
              "      <td>2</td>\n",
              "      <td>Iceland</td>\n",
              "      <td>7.561</td>\n",
              "      <td>1.30232</td>\n",
              "      <td>1.40223</td>\n",
              "      <td>0.94784</td>\n",
              "      <td>0.62877</td>\n",
              "      <td>0.43630</td>\n",
              "      <td>0.14145</td>\n",
              "      <td>2015</td>\n",
              "    </tr>\n",
              "    <tr>\n",
              "      <th>2</th>\n",
              "      <td>3</td>\n",
              "      <td>Denmark</td>\n",
              "      <td>7.527</td>\n",
              "      <td>1.32548</td>\n",
              "      <td>1.36058</td>\n",
              "      <td>0.87464</td>\n",
              "      <td>0.64938</td>\n",
              "      <td>0.34139</td>\n",
              "      <td>0.48357</td>\n",
              "      <td>2015</td>\n",
              "    </tr>\n",
              "    <tr>\n",
              "      <th>3</th>\n",
              "      <td>4</td>\n",
              "      <td>Norway</td>\n",
              "      <td>7.522</td>\n",
              "      <td>1.45900</td>\n",
              "      <td>1.33095</td>\n",
              "      <td>0.88521</td>\n",
              "      <td>0.66973</td>\n",
              "      <td>0.34699</td>\n",
              "      <td>0.36503</td>\n",
              "      <td>2015</td>\n",
              "    </tr>\n",
              "    <tr>\n",
              "      <th>4</th>\n",
              "      <td>5</td>\n",
              "      <td>Canada</td>\n",
              "      <td>7.427</td>\n",
              "      <td>1.32629</td>\n",
              "      <td>1.32261</td>\n",
              "      <td>0.90563</td>\n",
              "      <td>0.63297</td>\n",
              "      <td>0.45811</td>\n",
              "      <td>0.32957</td>\n",
              "      <td>2015</td>\n",
              "    </tr>\n",
              "  </tbody>\n",
              "</table>\n",
              "</div>"
            ],
            "text/plain": [
              "   Overall rank Country or region  Score  GDP per capita  Social support  Healthy life expectancy  Freedom to make life choices  Generosity  Perceptions of corruption  Year\n",
              "0             1       Switzerland  7.587         1.39651         1.34951                  0.94143                       0.66557     0.29678                    0.41978  2015\n",
              "1             2           Iceland  7.561         1.30232         1.40223                  0.94784                       0.62877     0.43630                    0.14145  2015\n",
              "2             3           Denmark  7.527         1.32548         1.36058                  0.87464                       0.64938     0.34139                    0.48357  2015\n",
              "3             4            Norway  7.522         1.45900         1.33095                  0.88521                       0.66973     0.34699                    0.36503  2015\n",
              "4             5            Canada  7.427         1.32629         1.32261                  0.90563                       0.63297     0.45811                    0.32957  2015"
            ]
          },
          "metadata": {
            "tags": []
          },
          "execution_count": 12
        }
      ]
    },
    {
      "cell_type": "markdown",
      "metadata": {
        "id": "WUpdOdBp7zp2",
        "colab_type": "text"
      },
      "source": [
        "### 2.1 Data Understanding"
      ]
    },
    {
      "cell_type": "code",
      "metadata": {
        "id": "SGGGelb27zp4",
        "colab_type": "code",
        "outputId": "2446f73a-0278-4dd8-d6b2-1e3bf62427b1",
        "colab": {
          "base_uri": "https://localhost:8080/",
          "height": 391
        }
      },
      "source": [
        "#Check sample data\n",
        "df.sample(10)"
      ],
      "execution_count": 0,
      "outputs": [
        {
          "output_type": "execute_result",
          "data": {
            "text/html": [
              "<div>\n",
              "<style scoped>\n",
              "    .dataframe tbody tr th:only-of-type {\n",
              "        vertical-align: middle;\n",
              "    }\n",
              "\n",
              "    .dataframe tbody tr th {\n",
              "        vertical-align: top;\n",
              "    }\n",
              "\n",
              "    .dataframe thead th {\n",
              "        text-align: right;\n",
              "    }\n",
              "</style>\n",
              "<table border=\"1\" class=\"dataframe\">\n",
              "  <thead>\n",
              "    <tr style=\"text-align: right;\">\n",
              "      <th></th>\n",
              "      <th>Overall rank</th>\n",
              "      <th>Country or region</th>\n",
              "      <th>Score</th>\n",
              "      <th>GDP per capita</th>\n",
              "      <th>Social support</th>\n",
              "      <th>Healthy life expectancy</th>\n",
              "      <th>Freedom to make life choices</th>\n",
              "      <th>Generosity</th>\n",
              "      <th>Perceptions of corruption</th>\n",
              "      <th>Year</th>\n",
              "    </tr>\n",
              "  </thead>\n",
              "  <tbody>\n",
              "    <tr>\n",
              "      <th>15</th>\n",
              "      <td>16</td>\n",
              "      <td>Belgium</td>\n",
              "      <td>6.927</td>\n",
              "      <td>1.324000</td>\n",
              "      <td>1.483000</td>\n",
              "      <td>0.894000</td>\n",
              "      <td>0.58300</td>\n",
              "      <td>0.18800</td>\n",
              "      <td>0.240000</td>\n",
              "      <td>2018</td>\n",
              "    </tr>\n",
              "    <tr>\n",
              "      <th>81</th>\n",
              "      <td>82</td>\n",
              "      <td>Croatia</td>\n",
              "      <td>5.321</td>\n",
              "      <td>1.115000</td>\n",
              "      <td>1.161000</td>\n",
              "      <td>0.737000</td>\n",
              "      <td>0.38000</td>\n",
              "      <td>0.12000</td>\n",
              "      <td>0.039000</td>\n",
              "      <td>2018</td>\n",
              "    </tr>\n",
              "    <tr>\n",
              "      <th>115</th>\n",
              "      <td>116</td>\n",
              "      <td>Sri Lanka</td>\n",
              "      <td>4.471</td>\n",
              "      <td>0.918000</td>\n",
              "      <td>1.314000</td>\n",
              "      <td>0.672000</td>\n",
              "      <td>0.58500</td>\n",
              "      <td>0.30700</td>\n",
              "      <td>0.050000</td>\n",
              "      <td>2018</td>\n",
              "    </tr>\n",
              "    <tr>\n",
              "      <th>111</th>\n",
              "      <td>112</td>\n",
              "      <td>Iraq</td>\n",
              "      <td>4.677</td>\n",
              "      <td>0.985490</td>\n",
              "      <td>0.818890</td>\n",
              "      <td>0.602370</td>\n",
              "      <td>0.00000</td>\n",
              "      <td>0.17922</td>\n",
              "      <td>0.137880</td>\n",
              "      <td>2015</td>\n",
              "    </tr>\n",
              "    <tr>\n",
              "      <th>79</th>\n",
              "      <td>80</td>\n",
              "      <td>Malaysia</td>\n",
              "      <td>5.339</td>\n",
              "      <td>1.221000</td>\n",
              "      <td>1.171000</td>\n",
              "      <td>0.828000</td>\n",
              "      <td>0.50800</td>\n",
              "      <td>0.26000</td>\n",
              "      <td>0.024000</td>\n",
              "      <td>2019</td>\n",
              "    </tr>\n",
              "    <tr>\n",
              "      <th>16</th>\n",
              "      <td>17</td>\n",
              "      <td>Luxembourg</td>\n",
              "      <td>6.946</td>\n",
              "      <td>1.563910</td>\n",
              "      <td>1.219630</td>\n",
              "      <td>0.918940</td>\n",
              "      <td>0.61583</td>\n",
              "      <td>0.28034</td>\n",
              "      <td>0.377980</td>\n",
              "      <td>2015</td>\n",
              "    </tr>\n",
              "    <tr>\n",
              "      <th>24</th>\n",
              "      <td>25</td>\n",
              "      <td>Mexico</td>\n",
              "      <td>6.578</td>\n",
              "      <td>1.153184</td>\n",
              "      <td>1.210862</td>\n",
              "      <td>0.709979</td>\n",
              "      <td>0.41273</td>\n",
              "      <td>0.12099</td>\n",
              "      <td>0.132774</td>\n",
              "      <td>2017</td>\n",
              "    </tr>\n",
              "    <tr>\n",
              "      <th>58</th>\n",
              "      <td>59</td>\n",
              "      <td>Bolivia</td>\n",
              "      <td>5.822</td>\n",
              "      <td>0.794220</td>\n",
              "      <td>0.837790</td>\n",
              "      <td>0.469700</td>\n",
              "      <td>0.50961</td>\n",
              "      <td>0.21698</td>\n",
              "      <td>0.077460</td>\n",
              "      <td>2016</td>\n",
              "    </tr>\n",
              "    <tr>\n",
              "      <th>61</th>\n",
              "      <td>62</td>\n",
              "      <td>Hungary</td>\n",
              "      <td>5.758</td>\n",
              "      <td>1.201000</td>\n",
              "      <td>1.410000</td>\n",
              "      <td>0.828000</td>\n",
              "      <td>0.19900</td>\n",
              "      <td>0.08100</td>\n",
              "      <td>0.020000</td>\n",
              "      <td>2019</td>\n",
              "    </tr>\n",
              "    <tr>\n",
              "      <th>52</th>\n",
              "      <td>53</td>\n",
              "      <td>Paraguay</td>\n",
              "      <td>5.878</td>\n",
              "      <td>0.759850</td>\n",
              "      <td>1.304770</td>\n",
              "      <td>0.660980</td>\n",
              "      <td>0.53899</td>\n",
              "      <td>0.34240</td>\n",
              "      <td>0.082420</td>\n",
              "      <td>2015</td>\n",
              "    </tr>\n",
              "  </tbody>\n",
              "</table>\n",
              "</div>"
            ],
            "text/plain": [
              "     Overall rank Country or region  Score  GDP per capita  Social support  Healthy life expectancy  Freedom to make life choices  Generosity  Perceptions of corruption  Year\n",
              "15             16           Belgium  6.927        1.324000        1.483000                 0.894000                       0.58300     0.18800                   0.240000  2018\n",
              "81             82           Croatia  5.321        1.115000        1.161000                 0.737000                       0.38000     0.12000                   0.039000  2018\n",
              "115           116         Sri Lanka  4.471        0.918000        1.314000                 0.672000                       0.58500     0.30700                   0.050000  2018\n",
              "111           112              Iraq  4.677        0.985490        0.818890                 0.602370                       0.00000     0.17922                   0.137880  2015\n",
              "79             80          Malaysia  5.339        1.221000        1.171000                 0.828000                       0.50800     0.26000                   0.024000  2019\n",
              "16             17        Luxembourg  6.946        1.563910        1.219630                 0.918940                       0.61583     0.28034                   0.377980  2015\n",
              "24             25            Mexico  6.578        1.153184        1.210862                 0.709979                       0.41273     0.12099                   0.132774  2017\n",
              "58             59           Bolivia  5.822        0.794220        0.837790                 0.469700                       0.50961     0.21698                   0.077460  2016\n",
              "61             62           Hungary  5.758        1.201000        1.410000                 0.828000                       0.19900     0.08100                   0.020000  2019\n",
              "52             53          Paraguay  5.878        0.759850        1.304770                 0.660980                       0.53899     0.34240                   0.082420  2015"
            ]
          },
          "metadata": {
            "tags": []
          },
          "execution_count": 13
        }
      ]
    },
    {
      "cell_type": "code",
      "metadata": {
        "id": "ht682NVQ7zp9",
        "colab_type": "code",
        "outputId": "d4c18d6f-a638-4388-f3d5-8545ec109572",
        "colab": {
          "base_uri": "https://localhost:8080/",
          "height": 34
        }
      },
      "source": [
        "df.shape"
      ],
      "execution_count": 0,
      "outputs": [
        {
          "output_type": "execute_result",
          "data": {
            "text/plain": [
              "(782, 10)"
            ]
          },
          "metadata": {
            "tags": []
          },
          "execution_count": 14
        }
      ]
    },
    {
      "cell_type": "markdown",
      "metadata": {
        "id": "JUvGISdH7zqD",
        "colab_type": "text"
      },
      "source": [
        "Dataset has 782 rows and 10 columns"
      ]
    },
    {
      "cell_type": "code",
      "metadata": {
        "id": "q8jpLR737zqG",
        "colab_type": "code",
        "outputId": "f1733a57-b0f0-4b0f-9dcc-51519925ac37",
        "colab": {
          "base_uri": "https://localhost:8080/",
          "height": 274
        }
      },
      "source": [
        "#Explore the column data types\n",
        "df.info()"
      ],
      "execution_count": 0,
      "outputs": [
        {
          "output_type": "stream",
          "text": [
            "<class 'pandas.core.frame.DataFrame'>\n",
            "Int64Index: 782 entries, 0 to 155\n",
            "Data columns (total 10 columns):\n",
            "Overall rank                    782 non-null int64\n",
            "Country or region               782 non-null object\n",
            "Score                           782 non-null float64\n",
            "GDP per capita                  782 non-null float64\n",
            "Social support                  782 non-null float64\n",
            "Healthy life expectancy         782 non-null float64\n",
            "Freedom to make life choices    782 non-null float64\n",
            "Generosity                      782 non-null float64\n",
            "Perceptions of corruption       781 non-null float64\n",
            "Year                            782 non-null int64\n",
            "dtypes: float64(7), int64(2), object(1)\n",
            "memory usage: 67.2+ KB\n"
          ],
          "name": "stdout"
        }
      ]
    },
    {
      "cell_type": "markdown",
      "metadata": {
        "id": "oJEvLzlI7zqO",
        "colab_type": "text"
      },
      "source": [
        "1 column is of string date type while rest are numeric."
      ]
    },
    {
      "cell_type": "code",
      "metadata": {
        "id": "ybZx7KP77zqP",
        "colab_type": "code",
        "outputId": "5637f5fa-06e4-498f-fb39-46a042fa6675",
        "colab": {
          "base_uri": "https://localhost:8080/",
          "height": 206
        }
      },
      "source": [
        "#Check Null Columns\n",
        "df.isnull().sum()"
      ],
      "execution_count": 0,
      "outputs": [
        {
          "output_type": "execute_result",
          "data": {
            "text/plain": [
              "Overall rank                    0\n",
              "Country or region               0\n",
              "Score                           0\n",
              "GDP per capita                  0\n",
              "Social support                  0\n",
              "Healthy life expectancy         0\n",
              "Freedom to make life choices    0\n",
              "Generosity                      0\n",
              "Perceptions of corruption       1\n",
              "Year                            0\n",
              "dtype: int64"
            ]
          },
          "metadata": {
            "tags": []
          },
          "execution_count": 16
        }
      ]
    },
    {
      "cell_type": "markdown",
      "metadata": {
        "id": "NbgLoU2Y7zqX",
        "colab_type": "text"
      },
      "source": [
        "We will replace the null record in the dataset with a mean value."
      ]
    },
    {
      "cell_type": "code",
      "metadata": {
        "id": "zQ8at1V3MFzp",
        "colab_type": "code",
        "colab": {}
      },
      "source": [
        "#Replacing missing values with mean\n",
        "df['Perceptions of corruption'].fillna((df['Perceptions of corruption'].mean()), inplace=True)"
      ],
      "execution_count": 0,
      "outputs": []
    },
    {
      "cell_type": "markdown",
      "metadata": {
        "id": "zogIfpuU7zq0",
        "colab_type": "text"
      },
      "source": [
        "## 3.0 Exploratory Data Analysis"
      ]
    },
    {
      "cell_type": "markdown",
      "metadata": {
        "id": "DbYVgFvL7zq1",
        "colab_type": "text"
      },
      "source": [
        "### 3.1 Distribution of Numerical Variables"
      ]
    },
    {
      "cell_type": "markdown",
      "metadata": {
        "id": "x-BGTH-F7zq3",
        "colab_type": "text"
      },
      "source": [
        "Statistical Distribution"
      ]
    },
    {
      "cell_type": "code",
      "metadata": {
        "id": "VQwoHfkt7zq6",
        "colab_type": "code",
        "outputId": "c13fe84b-37b5-4d46-fc9b-38bba486468a",
        "colab": {
          "base_uri": "https://localhost:8080/",
          "height": 330
        }
      },
      "source": [
        "df.describe()"
      ],
      "execution_count": 0,
      "outputs": [
        {
          "output_type": "execute_result",
          "data": {
            "text/html": [
              "<div>\n",
              "<style scoped>\n",
              "    .dataframe tbody tr th:only-of-type {\n",
              "        vertical-align: middle;\n",
              "    }\n",
              "\n",
              "    .dataframe tbody tr th {\n",
              "        vertical-align: top;\n",
              "    }\n",
              "\n",
              "    .dataframe thead th {\n",
              "        text-align: right;\n",
              "    }\n",
              "</style>\n",
              "<table border=\"1\" class=\"dataframe\">\n",
              "  <thead>\n",
              "    <tr style=\"text-align: right;\">\n",
              "      <th></th>\n",
              "      <th>Overall rank</th>\n",
              "      <th>Score</th>\n",
              "      <th>GDP per capita</th>\n",
              "      <th>Social support</th>\n",
              "      <th>Healthy life expectancy</th>\n",
              "      <th>Freedom to make life choices</th>\n",
              "      <th>Generosity</th>\n",
              "      <th>Perceptions of corruption</th>\n",
              "      <th>Year</th>\n",
              "    </tr>\n",
              "  </thead>\n",
              "  <tbody>\n",
              "    <tr>\n",
              "      <th>count</th>\n",
              "      <td>782.000000</td>\n",
              "      <td>782.000000</td>\n",
              "      <td>782.000000</td>\n",
              "      <td>782.000000</td>\n",
              "      <td>782.000000</td>\n",
              "      <td>782.000000</td>\n",
              "      <td>782.000000</td>\n",
              "      <td>782.000000</td>\n",
              "      <td>782.000000</td>\n",
              "    </tr>\n",
              "    <tr>\n",
              "      <th>mean</th>\n",
              "      <td>78.698210</td>\n",
              "      <td>5.379018</td>\n",
              "      <td>0.916047</td>\n",
              "      <td>1.078392</td>\n",
              "      <td>0.612416</td>\n",
              "      <td>0.411091</td>\n",
              "      <td>0.218576</td>\n",
              "      <td>0.125436</td>\n",
              "      <td>2016.993606</td>\n",
              "    </tr>\n",
              "    <tr>\n",
              "      <th>std</th>\n",
              "      <td>45.182384</td>\n",
              "      <td>1.127456</td>\n",
              "      <td>0.407340</td>\n",
              "      <td>0.329548</td>\n",
              "      <td>0.248309</td>\n",
              "      <td>0.152880</td>\n",
              "      <td>0.122321</td>\n",
              "      <td>0.105749</td>\n",
              "      <td>1.417364</td>\n",
              "    </tr>\n",
              "    <tr>\n",
              "      <th>min</th>\n",
              "      <td>1.000000</td>\n",
              "      <td>2.693000</td>\n",
              "      <td>0.000000</td>\n",
              "      <td>0.000000</td>\n",
              "      <td>0.000000</td>\n",
              "      <td>0.000000</td>\n",
              "      <td>0.000000</td>\n",
              "      <td>0.000000</td>\n",
              "      <td>2015.000000</td>\n",
              "    </tr>\n",
              "    <tr>\n",
              "      <th>25%</th>\n",
              "      <td>40.000000</td>\n",
              "      <td>4.509750</td>\n",
              "      <td>0.606500</td>\n",
              "      <td>0.869363</td>\n",
              "      <td>0.440183</td>\n",
              "      <td>0.309768</td>\n",
              "      <td>0.130000</td>\n",
              "      <td>0.054250</td>\n",
              "      <td>2016.000000</td>\n",
              "    </tr>\n",
              "    <tr>\n",
              "      <th>50%</th>\n",
              "      <td>79.000000</td>\n",
              "      <td>5.322000</td>\n",
              "      <td>0.982205</td>\n",
              "      <td>1.124735</td>\n",
              "      <td>0.647310</td>\n",
              "      <td>0.431000</td>\n",
              "      <td>0.201982</td>\n",
              "      <td>0.091033</td>\n",
              "      <td>2017.000000</td>\n",
              "    </tr>\n",
              "    <tr>\n",
              "      <th>75%</th>\n",
              "      <td>118.000000</td>\n",
              "      <td>6.189500</td>\n",
              "      <td>1.236187</td>\n",
              "      <td>1.327250</td>\n",
              "      <td>0.808000</td>\n",
              "      <td>0.531000</td>\n",
              "      <td>0.278832</td>\n",
              "      <td>0.155861</td>\n",
              "      <td>2018.000000</td>\n",
              "    </tr>\n",
              "    <tr>\n",
              "      <th>max</th>\n",
              "      <td>158.000000</td>\n",
              "      <td>7.769000</td>\n",
              "      <td>2.096000</td>\n",
              "      <td>1.644000</td>\n",
              "      <td>1.141000</td>\n",
              "      <td>0.724000</td>\n",
              "      <td>0.838075</td>\n",
              "      <td>0.551910</td>\n",
              "      <td>2019.000000</td>\n",
              "    </tr>\n",
              "  </tbody>\n",
              "</table>\n",
              "</div>"
            ],
            "text/plain": [
              "       Overall rank       Score  GDP per capita  Social support  Healthy life expectancy  Freedom to make life choices  Generosity  Perceptions of corruption         Year\n",
              "count    782.000000  782.000000      782.000000      782.000000               782.000000                    782.000000  782.000000                 782.000000   782.000000\n",
              "mean      78.698210    5.379018        0.916047        1.078392                 0.612416                      0.411091    0.218576                   0.125436  2016.993606\n",
              "std       45.182384    1.127456        0.407340        0.329548                 0.248309                      0.152880    0.122321                   0.105749     1.417364\n",
              "min        1.000000    2.693000        0.000000        0.000000                 0.000000                      0.000000    0.000000                   0.000000  2015.000000\n",
              "25%       40.000000    4.509750        0.606500        0.869363                 0.440183                      0.309768    0.130000                   0.054250  2016.000000\n",
              "50%       79.000000    5.322000        0.982205        1.124735                 0.647310                      0.431000    0.201982                   0.091033  2017.000000\n",
              "75%      118.000000    6.189500        1.236187        1.327250                 0.808000                      0.531000    0.278832                   0.155861  2018.000000\n",
              "max      158.000000    7.769000        2.096000        1.644000                 1.141000                      0.724000    0.838075                   0.551910  2019.000000"
            ]
          },
          "metadata": {
            "tags": []
          },
          "execution_count": 28
        }
      ]
    },
    {
      "cell_type": "code",
      "metadata": {
        "id": "fVkBq8J-j53u",
        "colab_type": "code",
        "colab": {}
      },
      "source": [
        ""
      ],
      "execution_count": 0,
      "outputs": []
    },
    {
      "cell_type": "markdown",
      "metadata": {
        "id": "UaykFI907zrB",
        "colab_type": "text"
      },
      "source": [
        "Graphical Distribution"
      ]
    },
    {
      "cell_type": "code",
      "metadata": {
        "id": "O2XsuqAz7zrD",
        "colab_type": "code",
        "outputId": "94ec7a19-d66b-42c4-9fac-7338c37ed9bc",
        "colab": {
          "base_uri": "https://localhost:8080/",
          "height": 1000
        }
      },
      "source": [
        "# Plotting distribution of numerical variables\n",
        "col_names = ['Overall rank',  'Score', 'GDP per capita', 'Social support', \n",
        "            'Healthy life expectancy', 'Freedom to make life choices', 'Generosity', \n",
        "            'Perceptions of corruption']\n",
        "fig, ax = plt.subplots(len(col_names), figsize=(13,22))\n",
        "\n",
        "for i, col_val in enumerate(col_names):\n",
        "\n",
        "    sns.distplot(df[col_val], hist=True, ax=ax[i])\n",
        "    ax[i].set_title('Frequency distribution of '+col_val, fontsize=10)\n",
        "    ax[i].set_xlabel(col_val, fontsize=8)\n",
        "    ax[i].set_ylabel('Count', fontsize=8)\n",
        "plt.tight_layout()\n",
        "plt.show()"
      ],
      "execution_count": 0,
      "outputs": [
        {
          "output_type": "display_data",
          "data": {
            "image/png": "[encoded data removed]",
            "text/plain": [
              "<Figure size 936x1584 with 8 Axes>"
            ]
          },
          "metadata": {
            "tags": []
          }
        }
      ]
    },
    {
      "cell_type": "markdown",
      "metadata": {
        "id": "VaVBU5o87zrM",
        "colab_type": "text"
      },
      "source": [
        "Observations\n",
        "1. Distribution of Sum of blue cars taken and return skewed to the left.\n",
        "\n",
        "2. Cars hired throughtout the week with days 0 and 1 having a small records increase.\n",
        "\n",
        "3. 3 distinct regions noted as the car hire destinations based on postal codes distributions"
      ]
    },
    {
      "cell_type": "markdown",
      "metadata": {
        "id": "mg_waeNH7zrO",
        "colab_type": "text"
      },
      "source": [
        "### 3.2 Distribution of Categorical variables"
      ]
    },
    {
      "cell_type": "markdown",
      "metadata": {
        "id": "CGiq1pI87zrQ",
        "colab_type": "text"
      },
      "source": [
        "a) Day_Type"
      ]
    },
    {
      "cell_type": "code",
      "metadata": {
        "id": "kZgYPbEY7zrR",
        "colab_type": "code",
        "outputId": "b9555585-4a47-4072-a128-21c3909fa394",
        "colab": {}
      },
      "source": [
        "df_bc['day_type'].value_counts().plot.bar(rot =0)\n",
        "plt.xlabel(\"day_type\")\n",
        "plt.ylabel(\"Count\")\n",
        "plt.title(\"Records Count per day_type\")\n",
        "plt.show()"
      ],
      "execution_count": 0,
      "outputs": [
        {
          "output_type": "display_data",
          "data": {
            "image/png": "[encoded data removed]",
            "text/plain": [
              "<matplotlib.figure.Figure at 0x7fcb24c416a0>"
            ]
          },
          "metadata": {
            "tags": []
          }
        }
      ]
    },
    {
      "cell_type": "markdown",
      "metadata": {
        "id": "TQtBOHU27zra",
        "colab_type": "text"
      },
      "source": [
        "Observation: Cummulatively from a simplistic perspective, there are more rides on week days. Expected as there are more weekdays than weekends."
      ]
    },
    {
      "cell_type": "markdown",
      "metadata": {
        "id": "F4trmoxQ7zrd",
        "colab_type": "text"
      },
      "source": [
        "b) Day of the week"
      ]
    },
    {
      "cell_type": "code",
      "metadata": {
        "id": "hSdIYAj67zre",
        "colab_type": "code",
        "outputId": "a5782785-0f9b-4e2b-9432-43999c92dd06",
        "colab": {}
      },
      "source": [
        "df_bc['dayOfWeek'].value_counts().plot.bar(rot =0)\n",
        "plt.xlabel(\"dayOfWeek\")\n",
        "plt.ylabel(\"Count\")\n",
        "plt.title(\"Records Count per dayOfWeek\")\n",
        "plt.show()"
      ],
      "execution_count": 0,
      "outputs": [
        {
          "output_type": "display_data",
          "data": {
            "image/png": "[encoded data removed]",
            "text/plain": [
              "<matplotlib.figure.Figure at 0x7fcb24667dd8>"
            ]
          },
          "metadata": {
            "tags": []
          }
        }
      ]
    },
    {
      "cell_type": "markdown",
      "metadata": {
        "id": "hMJpZtBR7zrm",
        "colab_type": "text"
      },
      "source": [
        "Observation: Saturday and Sunday (days 0 and 1) have higher daily record counts"
      ]
    },
    {
      "cell_type": "markdown",
      "metadata": {
        "id": "syi1IaF57zro",
        "colab_type": "text"
      },
      "source": [
        "### 3.3 Checking outliers"
      ]
    },
    {
      "cell_type": "code",
      "metadata": {
        "id": "Zemo5Ta_7zrt",
        "colab_type": "code",
        "outputId": "1f4799a5-0582-4f79-c155-1c459f9035e1",
        "colab": {}
      },
      "source": [
        "#Outlier: Year, household size and respondent age\n",
        "col_names = ['BlueCars_taken_sum','BlueCars_returned_sum','Postal code']\n",
        "\n",
        "fig, ax = plt.subplots(len(col_names), figsize=(6,20))\n",
        "\n",
        "for i, col_val in enumerate(col_names):\n",
        "\n",
        "    sns.boxplot(y=df_bc[col_val], ax=ax[i])\n",
        "    ax[i].set_title('Box plot - {}'.format(col_val), fontsize=10)\n",
        "    ax[i].set_xlabel(col_val, fontsize=8)\n",
        "\n",
        "plt.show()"
      ],
      "execution_count": 0,
      "outputs": [
        {
          "output_type": "display_data",
          "data": {
            "image/png": "[encoded data removed]",
            "text/plain": [
              "<matplotlib.figure.Figure at 0x7fcb249b5f28>"
            ]
          },
          "metadata": {
            "tags": []
          }
        }
      ]
    },
    {
      "cell_type": "markdown",
      "metadata": {
        "id": "xWNYPvl37zsA",
        "colab_type": "text"
      },
      "source": [
        "Observations: \n",
        "\n",
        "a) Regarding blue cars taken and returned, the outliers are valid data points hence cannot be ignored. \n",
        "\n",
        "b) Postal codes : Possibly different regions hence the differing postal codes\n",
        "    "
      ]
    },
    {
      "cell_type": "markdown",
      "metadata": {
        "id": "Gcx7Akel7zsD",
        "colab_type": "text"
      },
      "source": [
        "### 3.4 Bi-variate analysis"
      ]
    },
    {
      "cell_type": "markdown",
      "metadata": {
        "id": "FaqA6_Qe7zsH",
        "colab_type": "text"
      },
      "source": [
        "a) Blue cars taken versus blue cars returned"
      ]
    },
    {
      "cell_type": "code",
      "metadata": {
        "id": "ovUBPDN17zsJ",
        "colab_type": "code",
        "outputId": "b13f6d10-3a3a-4f7e-a817-2646b9ab6411",
        "colab": {}
      },
      "source": [
        "#Scatter plot will check for any correlation between age and household size\n",
        "# Plotting  scatterplot\n",
        "plt.scatter(df_bc['BlueCars_taken_sum'], df_bc['BlueCars_returned_sum'])\n",
        "\n",
        "# Title\n",
        "plt.title('BlueCars taken sum vs BlueCars returned sum')\n",
        "\n",
        "# X axis label\n",
        "plt.xlabel('BlueCars taken sum)')\n",
        "\n",
        "# y axis label\n",
        "plt.ylabel('BlueCars returned sum')\n",
        "\n",
        "# Display scatterplot\n",
        "plt.show()\n"
      ],
      "execution_count": 0,
      "outputs": [
        {
          "output_type": "display_data",
          "data": {
            "image/png": "[encoded data removed]",
            "text/plain": [
              "<matplotlib.figure.Figure at 0x7fcb254bafd0>"
            ]
          },
          "metadata": {
            "tags": []
          }
        }
      ]
    },
    {
      "cell_type": "markdown",
      "metadata": {
        "id": "AZnxJByO7zsQ",
        "colab_type": "text"
      },
      "source": [
        "Observation: There is a direct correlation between blue cars taken and blue cars returned"
      ]
    },
    {
      "cell_type": "markdown",
      "metadata": {
        "id": "3_Y9KC3O7zsR",
        "colab_type": "text"
      },
      "source": [
        "b) Blue cars taken versus day of the week"
      ]
    },
    {
      "cell_type": "code",
      "metadata": {
        "id": "nI0633bz7zsT",
        "colab_type": "code",
        "outputId": "030759cb-4e03-4546-b0a9-c5b907a76397",
        "colab": {}
      },
      "source": [
        "# Plotting  scatterplot\n",
        "plt.scatter(df_bc['BlueCars_taken_sum'], df_bc['dayOfWeek'])\n",
        "\n",
        "# Title\n",
        "plt.title('BlueCars taken sum vs day of the week')\n",
        "\n",
        "# X axis label\n",
        "plt.xlabel('BlueCars taken sum)')\n",
        "\n",
        "# y axis label\n",
        "plt.ylabel('day of the week')\n",
        "\n",
        "# Display scatterplot\n",
        "plt.show()\n"
      ],
      "execution_count": 0,
      "outputs": [
        {
          "output_type": "display_data",
          "data": {
            "image/png": "[encoded data removed]",
            "text/plain": [
              "<matplotlib.figure.Figure at 0x7fcb24ae4f98>"
            ]
          },
          "metadata": {
            "tags": []
          }
        }
      ]
    },
    {
      "cell_type": "markdown",
      "metadata": {
        "id": "CrKxRBOW7zsb",
        "colab_type": "text"
      },
      "source": [
        "Observation: Wednesday, Thursday and Friday have days where over 1000 cars are hired"
      ]
    },
    {
      "cell_type": "markdown",
      "metadata": {
        "id": "9HeQouLf7zsg",
        "colab_type": "text"
      },
      "source": [
        "c) Blue cars returned versus day of the week"
      ]
    },
    {
      "cell_type": "code",
      "metadata": {
        "id": "enuVkJCG7zsk",
        "colab_type": "code",
        "outputId": "77123a70-f5b3-4d7a-8e28-818b81009233",
        "colab": {}
      },
      "source": [
        "# Plotting  scatterplot\n",
        "plt.scatter(df_bc['BlueCars_returned_sum'], df_bc['dayOfWeek'])\n",
        "\n",
        "# Title\n",
        "plt.title('BlueCars returned sum vs day of the week')\n",
        "\n",
        "# X axis label\n",
        "plt.xlabel('BlueCars returned sum)')\n",
        "\n",
        "# y axis label\n",
        "plt.ylabel('day of the week')\n",
        "\n",
        "# Display scatterplot\n",
        "plt.show()"
      ],
      "execution_count": 0,
      "outputs": [
        {
          "output_type": "display_data",
          "data": {
            "image/png": "[encoded data removed]",
            "text/plain": [
              "<matplotlib.figure.Figure at 0x7fcb24903518>"
            ]
          },
          "metadata": {
            "tags": []
          }
        }
      ]
    },
    {
      "cell_type": "markdown",
      "metadata": {
        "id": "FOGpLTst7zst",
        "colab_type": "text"
      },
      "source": [
        "Observations : There are instances where more cars over 1000 \n",
        "    are returned on Thursday and Fridays"
      ]
    },
    {
      "cell_type": "markdown",
      "metadata": {
        "id": "tae0PGrZ7zsw",
        "colab_type": "text"
      },
      "source": [
        "## Feature Engineering"
      ]
    },
    {
      "cell_type": "markdown",
      "metadata": {
        "id": "8vm8gu607zsy",
        "colab_type": "text"
      },
      "source": [
        "Create new column strata. Each strata will represent an administrative region which is composed of postal codes\n",
        "\n",
        "Rationale for this is to compare Paris CBD versus surburb of Seine-Saint-Denis as documented in data report."
      ]
    },
    {
      "cell_type": "code",
      "metadata": {
        "id": "GriK80Xf7zsz",
        "colab_type": "code",
        "outputId": "2bad62e0-2b52-4a20-b30f-16e56e3724ff",
        "colab": {}
      },
      "source": [
        "#Unique Postal Codes\n",
        "df_bc['Postal code'].unique()"
      ],
      "execution_count": 0,
      "outputs": [
        {
          "output_type": "execute_result",
          "data": {
            "text/plain": [
              "array([75001, 75002, 75003, 75004, 75005, 75006, 75007, 75008, 75009,\n",
              "       75010, 75011, 75012, 75013, 75014, 75015, 75016, 75017, 75018,\n",
              "       75019, 75020, 75112, 75116, 78000, 78140, 78150, 91330, 91370,\n",
              "       91400, 92000, 92100, 92110, 92120, 92130, 92140, 92150, 92160,\n",
              "       92170, 92190, 92200, 92210, 92220, 92230, 92240, 92250, 92260,\n",
              "       92270, 92290, 92300, 92310, 92320, 92330, 92340, 92350, 92360,\n",
              "       92370, 92380, 92390, 92400, 92410, 92420, 92500, 92600, 92700,\n",
              "       92800, 93100, 93110, 93130, 93150, 93170, 93200, 93230, 93260,\n",
              "       93300, 93310, 93350, 93360, 93370, 93390, 93400, 93440, 93500,\n",
              "       93600, 93700, 93800, 94000, 94100, 94110, 94120, 94130, 94140,\n",
              "       94150, 94160, 94220, 94230, 94300, 94340, 94410, 94450, 94500,\n",
              "       94700, 94800, 95100, 95870, 95880])"
            ]
          },
          "metadata": {
            "tags": []
          },
          "execution_count": 237
        }
      ]
    },
    {
      "cell_type": "code",
      "metadata": {
        "id": "nllJbs0z7zs6",
        "colab_type": "code",
        "colab": {}
      },
      "source": [
        "#Procedure to assign strata based on postal code per region\n",
        "def assign_strata():\n",
        "# Create a list to store the data\n",
        "    strata = []\n",
        "    # For each row in the column,\n",
        "    for postal_code in df_bc['Postal code']:\n",
        "        if postal_code >= 75000 and postal_code <= 75999:\n",
        "            strata.append(1)      \n",
        "        elif postal_code >= 78000 and postal_code <= 78999:\n",
        "            strata.append(2)\n",
        "        elif postal_code >= 91000 and postal_code <= 91999:\n",
        "            strata.append(3)\n",
        "        elif postal_code >= 92000 and postal_code <= 92999:\n",
        "            strata.append(4)\n",
        "        elif postal_code >= 93000 and postal_code <= 93999:\n",
        "            strata.append(5)\n",
        "        elif postal_code >= 94000 and postal_code <= 94999:\n",
        "            strata.append(6)    \n",
        "        elif postal_code >= 95000 and postal_code <= 95999:\n",
        "            strata.append(7)    \n",
        "                             \n",
        "    # Create a column from the list\n",
        "    df_bc['strata'] = strata"
      ],
      "execution_count": 0,
      "outputs": []
    },
    {
      "cell_type": "code",
      "metadata": {
        "id": "E6TzuRi57ztG",
        "colab_type": "code",
        "colab": {}
      },
      "source": [
        "# Execute strata\n",
        "assign_strata()"
      ],
      "execution_count": 0,
      "outputs": []
    },
    {
      "cell_type": "code",
      "metadata": {
        "id": "VSjZHrck7ztL",
        "colab_type": "code",
        "outputId": "26f41d24-7e22-4492-852c-1f0809f19493",
        "colab": {}
      },
      "source": [
        "#Observe strata column is created\n",
        "df_bc.sample(5)"
      ],
      "execution_count": 0,
      "outputs": [
        {
          "output_type": "execute_result",
          "data": {
            "text/html": [
              "<div>\n",
              "<style>\n",
              "    .dataframe thead tr:only-child th {\n",
              "        text-align: right;\n",
              "    }\n",
              "\n",
              "    .dataframe thead th {\n",
              "        text-align: left;\n",
              "    }\n",
              "\n",
              "    .dataframe tbody tr th {\n",
              "        vertical-align: top;\n",
              "    }\n",
              "</style>\n",
              "<table border=\"1\" class=\"dataframe\">\n",
              "  <thead>\n",
              "    <tr style=\"text-align: right;\">\n",
              "      <th></th>\n",
              "      <th>Postal code</th>\n",
              "      <th>date</th>\n",
              "      <th>dayOfWeek</th>\n",
              "      <th>day_type</th>\n",
              "      <th>BlueCars_taken_sum</th>\n",
              "      <th>BlueCars_returned_sum</th>\n",
              "      <th>strata</th>\n",
              "    </tr>\n",
              "  </thead>\n",
              "  <tbody>\n",
              "    <tr>\n",
              "      <th>8844</th>\n",
              "      <td>92390</td>\n",
              "      <td>2018-05-08</td>\n",
              "      <td>1</td>\n",
              "      <td>weekday</td>\n",
              "      <td>16</td>\n",
              "      <td>22</td>\n",
              "      <td>4</td>\n",
              "    </tr>\n",
              "    <tr>\n",
              "      <th>1416</th>\n",
              "      <td>75010</td>\n",
              "      <td>2018-01-13</td>\n",
              "      <td>5</td>\n",
              "      <td>weekend</td>\n",
              "      <td>466</td>\n",
              "      <td>468</td>\n",
              "      <td>1</td>\n",
              "    </tr>\n",
              "    <tr>\n",
              "      <th>1717</th>\n",
              "      <td>75012</td>\n",
              "      <td>2018-01-02</td>\n",
              "      <td>1</td>\n",
              "      <td>weekday</td>\n",
              "      <td>406</td>\n",
              "      <td>412</td>\n",
              "      <td>1</td>\n",
              "    </tr>\n",
              "    <tr>\n",
              "      <th>3172</th>\n",
              "      <td>75112</td>\n",
              "      <td>2018-02-22</td>\n",
              "      <td>3</td>\n",
              "      <td>weekday</td>\n",
              "      <td>14</td>\n",
              "      <td>14</td>\n",
              "      <td>1</td>\n",
              "    </tr>\n",
              "    <tr>\n",
              "      <th>6863</th>\n",
              "      <td>92260</td>\n",
              "      <td>2018-01-03</td>\n",
              "      <td>2</td>\n",
              "      <td>weekday</td>\n",
              "      <td>24</td>\n",
              "      <td>28</td>\n",
              "      <td>4</td>\n",
              "    </tr>\n",
              "  </tbody>\n",
              "</table>\n",
              "</div>"
            ],
            "text/plain": [
              "      Postal code       date  dayOfWeek day_type  BlueCars_taken_sum  BlueCars_returned_sum  strata\n",
              "8844        92390 2018-05-08          1  weekday                  16                     22       4\n",
              "1416        75010 2018-01-13          5  weekend                 466                    468       1\n",
              "1717        75012 2018-01-02          1  weekday                 406                    412       1\n",
              "3172        75112 2018-02-22          3  weekday                  14                     14       1\n",
              "6863        92260 2018-01-03          2  weekday                  24                     28       4"
            ]
          },
          "metadata": {
            "tags": []
          },
          "execution_count": 240
        }
      ]
    },
    {
      "cell_type": "markdown",
      "metadata": {
        "id": "4BZ2dBss7ztU",
        "colab_type": "text"
      },
      "source": [
        "## Sampling"
      ]
    },
    {
      "cell_type": "markdown",
      "metadata": {
        "id": "J2ubo9Ps7ztW",
        "colab_type": "text"
      },
      "source": [
        "a) Strata is Postal Code"
      ]
    },
    {
      "cell_type": "code",
      "metadata": {
        "id": "Lu9325l57ztY",
        "colab_type": "code",
        "outputId": "05772c59-0d2a-46a8-c818-1afc8c3f23d9",
        "colab": {}
      },
      "source": [
        "df_bc['strata'].unique()"
      ],
      "execution_count": 0,
      "outputs": [
        {
          "output_type": "execute_result",
          "data": {
            "text/plain": [
              "array([1, 2, 3, 4, 5, 6, 7])"
            ]
          },
          "metadata": {
            "tags": []
          },
          "execution_count": 241
        }
      ]
    },
    {
      "cell_type": "markdown",
      "metadata": {
        "id": "3BY-IXzr7zte",
        "colab_type": "text"
      },
      "source": [
        "b) Sampling approach\n",
        "\n",
        "Stratified sampling to be applied where 10% of records will be selected from each strata i.e postal code"
      ]
    },
    {
      "cell_type": "code",
      "metadata": {
        "id": "OcUmp6EN7zth",
        "colab_type": "code",
        "outputId": "bb64254b-d7a8-4e49-d6c3-1c6a99e36e03",
        "colab": {}
      },
      "source": [
        "# Stratified sample\n",
        "df_bc_strat = df_bc.groupby('strata', group_keys=False).apply(lambda grouped_subset : grouped_subset.sample(frac=0.10))\n",
        "\n",
        "# Counts per strata\n",
        "df_output = df_bc_strat['strata'].value_counts().sort_values()\n",
        "df_output[:]"
      ],
      "execution_count": 0,
      "outputs": [
        {
          "output_type": "execute_result",
          "data": {
            "text/plain": [
              "7     47\n",
              "3     47\n",
              "2     47\n",
              "6    265\n",
              "5    300\n",
              "1    343\n",
              "4    560\n",
              "Name: strata, dtype: int64"
            ]
          },
          "metadata": {
            "tags": []
          },
          "execution_count": 242
        }
      ]
    },
    {
      "cell_type": "markdown",
      "metadata": {
        "id": "GCsM5ktC7ztm",
        "colab_type": "text"
      },
      "source": [
        "## Sampling Normality tests"
      ]
    },
    {
      "cell_type": "markdown",
      "metadata": {
        "id": "4xf_YAmQ7ztn",
        "colab_type": "text"
      },
      "source": [
        "a) Distribution per strata before sampling"
      ]
    },
    {
      "cell_type": "code",
      "metadata": {
        "id": "3AyJywUW7ztp",
        "colab_type": "code",
        "outputId": "123e5ea6-d763-4c7d-8217-6ebb46a7a9dd",
        "colab": {}
      },
      "source": [
        "# histogram plot of whole population per strata\n",
        "plt.hist(df_bc['strata'])\n",
        "plt.xlabel(\"Strata\")\n",
        "plt.ylabel(\"Records Count\")\n",
        "plt.title(\"Records Count Per Strata for Whole Population\")\n",
        "plt.show()"
      ],
      "execution_count": 0,
      "outputs": [
        {
          "output_type": "display_data",
          "data": {
            "image/png": "[encoded data removed]",
            "text/plain": [
              "<matplotlib.figure.Figure at 0x7fcb25326860>"
            ]
          },
          "metadata": {
            "tags": []
          }
        }
      ]
    },
    {
      "cell_type": "markdown",
      "metadata": {
        "id": "9Mld1XP-7ztu",
        "colab_type": "text"
      },
      "source": [
        "b) Distribution per strata after sampling"
      ]
    },
    {
      "cell_type": "code",
      "metadata": {
        "id": "hsp-7Sy47zt0",
        "colab_type": "code",
        "outputId": "a257ec91-5aeb-48f1-8c52-736c99793b18",
        "colab": {}
      },
      "source": [
        "#Distribution post sampling\n",
        "plt.hist(df_bc_strat['strata'])\n",
        "plt.xlabel(\"Strata\")\n",
        "plt.ylabel(\"Records Count\")\n",
        "plt.title(\"Records Count Per Strata for Sample Population\")\n",
        "plt.show()"
      ],
      "execution_count": 0,
      "outputs": [
        {
          "output_type": "display_data",
          "data": {
            "image/png": "[encoded data removed]",
            "text/plain": [
              "<matplotlib.figure.Figure at 0x7fcb24fe15c0>"
            ]
          },
          "metadata": {
            "tags": []
          }
        }
      ]
    },
    {
      "cell_type": "markdown",
      "metadata": {
        "id": "h_7S2CGV7zt5",
        "colab_type": "text"
      },
      "source": [
        "The distribution pattern before sampling and after sampling is similar hence sampling was well distributed across all strata."
      ]
    },
    {
      "cell_type": "markdown",
      "metadata": {
        "id": "rWJnDhYo7zt9",
        "colab_type": "text"
      },
      "source": [
        "#### Create dataframe the two regions with data for weekends only\n",
        "\n",
        "#### Strata\n",
        "75XXX - Paris - Strata 1\n",
        "93XXX - Seine-Saint-Denis - Strata 5"
      ]
    },
    {
      "cell_type": "markdown",
      "metadata": {
        "id": "1vmpC7b07zt_",
        "colab_type": "text"
      },
      "source": [
        "i) Paris Sample"
      ]
    },
    {
      "cell_type": "code",
      "metadata": {
        "id": "k8NKG5K-7zuD",
        "colab_type": "code",
        "outputId": "235932a0-e576-4067-a9be-12b84719aca7",
        "colab": {}
      },
      "source": [
        "df_bc_sample_paris = df_bc_strat[ (df_bc_strat['strata']==1) & (df_bc_strat['day_type']=='weekend')]\n",
        "df_bc_sample_paris = df_bc_sample_paris.copy()\n",
        "df_bc_sample_paris.sample(5)"
      ],
      "execution_count": 0,
      "outputs": [
        {
          "output_type": "execute_result",
          "data": {
            "text/html": [
              "<div>\n",
              "<style>\n",
              "    .dataframe thead tr:only-child th {\n",
              "        text-align: right;\n",
              "    }\n",
              "\n",
              "    .dataframe thead th {\n",
              "        text-align: left;\n",
              "    }\n",
              "\n",
              "    .dataframe tbody tr th {\n",
              "        vertical-align: top;\n",
              "    }\n",
              "</style>\n",
              "<table border=\"1\" class=\"dataframe\">\n",
              "  <thead>\n",
              "    <tr style=\"text-align: right;\">\n",
              "      <th></th>\n",
              "      <th>Postal code</th>\n",
              "      <th>date</th>\n",
              "      <th>dayOfWeek</th>\n",
              "      <th>day_type</th>\n",
              "      <th>BlueCars_taken_sum</th>\n",
              "      <th>BlueCars_returned_sum</th>\n",
              "      <th>strata</th>\n",
              "    </tr>\n",
              "  </thead>\n",
              "  <tbody>\n",
              "    <tr>\n",
              "      <th>2153</th>\n",
              "      <td>75014</td>\n",
              "      <td>2018-05-20</td>\n",
              "      <td>6</td>\n",
              "      <td>weekend</td>\n",
              "      <td>422</td>\n",
              "      <td>381</td>\n",
              "      <td>1</td>\n",
              "    </tr>\n",
              "    <tr>\n",
              "      <th>527</th>\n",
              "      <td>75004</td>\n",
              "      <td>2018-03-04</td>\n",
              "      <td>6</td>\n",
              "      <td>weekend</td>\n",
              "      <td>191</td>\n",
              "      <td>191</td>\n",
              "      <td>1</td>\n",
              "    </tr>\n",
              "    <tr>\n",
              "      <th>2953</th>\n",
              "      <td>75019</td>\n",
              "      <td>2018-06-09</td>\n",
              "      <td>5</td>\n",
              "      <td>weekend</td>\n",
              "      <td>756</td>\n",
              "      <td>756</td>\n",
              "      <td>1</td>\n",
              "    </tr>\n",
              "    <tr>\n",
              "      <th>3167</th>\n",
              "      <td>75112</td>\n",
              "      <td>2018-02-17</td>\n",
              "      <td>5</td>\n",
              "      <td>weekend</td>\n",
              "      <td>13</td>\n",
              "      <td>13</td>\n",
              "      <td>1</td>\n",
              "    </tr>\n",
              "    <tr>\n",
              "      <th>2427</th>\n",
              "      <td>75016</td>\n",
              "      <td>2018-04-01</td>\n",
              "      <td>6</td>\n",
              "      <td>weekend</td>\n",
              "      <td>738</td>\n",
              "      <td>745</td>\n",
              "      <td>1</td>\n",
              "    </tr>\n",
              "  </tbody>\n",
              "</table>\n",
              "</div>"
            ],
            "text/plain": [
              "      Postal code       date  dayOfWeek day_type  BlueCars_taken_sum  BlueCars_returned_sum  strata\n",
              "2153        75014 2018-05-20          6  weekend                 422                    381       1\n",
              "527         75004 2018-03-04          6  weekend                 191                    191       1\n",
              "2953        75019 2018-06-09          5  weekend                 756                    756       1\n",
              "3167        75112 2018-02-17          5  weekend                  13                     13       1\n",
              "2427        75016 2018-04-01          6  weekend                 738                    745       1"
            ]
          },
          "metadata": {
            "tags": []
          },
          "execution_count": 245
        }
      ]
    },
    {
      "cell_type": "markdown",
      "metadata": {
        "id": "0zP-lSoM7zuG",
        "colab_type": "text"
      },
      "source": [
        "ii) Seine-Saint-Denis Sample"
      ]
    },
    {
      "cell_type": "code",
      "metadata": {
        "id": "CMKEPTZd7zuH",
        "colab_type": "code",
        "outputId": "c7bd0234-8999-4873-f7eb-2982fcff50fd",
        "colab": {}
      },
      "source": [
        "df_bc_sample_ssd = df_bc_strat[ (df_bc_strat['strata']==5) & (df_bc_strat['day_type']=='weekend')]\n",
        "df_bc_sample_ssd = df_bc_sample_ssd.copy()\n",
        "df_bc_sample_ssd.sample(5)"
      ],
      "execution_count": 0,
      "outputs": [
        {
          "output_type": "execute_result",
          "data": {
            "text/html": [
              "<div>\n",
              "<style>\n",
              "    .dataframe thead tr:only-child th {\n",
              "        text-align: right;\n",
              "    }\n",
              "\n",
              "    .dataframe thead th {\n",
              "        text-align: left;\n",
              "    }\n",
              "\n",
              "    .dataframe tbody tr th {\n",
              "        vertical-align: top;\n",
              "    }\n",
              "</style>\n",
              "<table border=\"1\" class=\"dataframe\">\n",
              "  <thead>\n",
              "    <tr style=\"text-align: right;\">\n",
              "      <th></th>\n",
              "      <th>Postal code</th>\n",
              "      <th>date</th>\n",
              "      <th>dayOfWeek</th>\n",
              "      <th>day_type</th>\n",
              "      <th>BlueCars_taken_sum</th>\n",
              "      <th>BlueCars_returned_sum</th>\n",
              "      <th>strata</th>\n",
              "    </tr>\n",
              "  </thead>\n",
              "  <tbody>\n",
              "    <tr>\n",
              "      <th>12898</th>\n",
              "      <td>93800</td>\n",
              "      <td>2018-04-01</td>\n",
              "      <td>6</td>\n",
              "      <td>weekend</td>\n",
              "      <td>24</td>\n",
              "      <td>15</td>\n",
              "      <td>5</td>\n",
              "    </tr>\n",
              "    <tr>\n",
              "      <th>12019</th>\n",
              "      <td>93390</td>\n",
              "      <td>2018-06-02</td>\n",
              "      <td>5</td>\n",
              "      <td>weekend</td>\n",
              "      <td>11</td>\n",
              "      <td>12</td>\n",
              "      <td>5</td>\n",
              "    </tr>\n",
              "    <tr>\n",
              "      <th>12402</th>\n",
              "      <td>93500</td>\n",
              "      <td>2018-03-04</td>\n",
              "      <td>6</td>\n",
              "      <td>weekend</td>\n",
              "      <td>57</td>\n",
              "      <td>58</td>\n",
              "      <td>5</td>\n",
              "    </tr>\n",
              "    <tr>\n",
              "      <th>11389</th>\n",
              "      <td>93310</td>\n",
              "      <td>2018-02-24</td>\n",
              "      <td>5</td>\n",
              "      <td>weekend</td>\n",
              "      <td>1</td>\n",
              "      <td>1</td>\n",
              "      <td>5</td>\n",
              "    </tr>\n",
              "    <tr>\n",
              "      <th>10453</th>\n",
              "      <td>93150</td>\n",
              "      <td>2018-01-20</td>\n",
              "      <td>5</td>\n",
              "      <td>weekend</td>\n",
              "      <td>9</td>\n",
              "      <td>6</td>\n",
              "      <td>5</td>\n",
              "    </tr>\n",
              "  </tbody>\n",
              "</table>\n",
              "</div>"
            ],
            "text/plain": [
              "       Postal code       date  dayOfWeek day_type  BlueCars_taken_sum  BlueCars_returned_sum  strata\n",
              "12898        93800 2018-04-01          6  weekend                  24                     15       5\n",
              "12019        93390 2018-06-02          5  weekend                  11                     12       5\n",
              "12402        93500 2018-03-04          6  weekend                  57                     58       5\n",
              "11389        93310 2018-02-24          5  weekend                   1                      1       5\n",
              "10453        93150 2018-01-20          5  weekend                   9                      6       5"
            ]
          },
          "metadata": {
            "tags": []
          },
          "execution_count": 246
        }
      ]
    },
    {
      "cell_type": "code",
      "metadata": {
        "id": "6i2Brd7u7zuN",
        "colab_type": "code",
        "outputId": "12a76e87-cc75-40ea-9b4a-6fc31a3ff888",
        "colab": {}
      },
      "source": [
        "df_bc_sample_ssd.describe()"
      ],
      "execution_count": 0,
      "outputs": [
        {
          "output_type": "execute_result",
          "data": {
            "text/html": [
              "<div>\n",
              "<style>\n",
              "    .dataframe thead tr:only-child th {\n",
              "        text-align: right;\n",
              "    }\n",
              "\n",
              "    .dataframe thead th {\n",
              "        text-align: left;\n",
              "    }\n",
              "\n",
              "    .dataframe tbody tr th {\n",
              "        vertical-align: top;\n",
              "    }\n",
              "</style>\n",
              "<table border=\"1\" class=\"dataframe\">\n",
              "  <thead>\n",
              "    <tr style=\"text-align: right;\">\n",
              "      <th></th>\n",
              "      <th>Postal code</th>\n",
              "      <th>dayOfWeek</th>\n",
              "      <th>BlueCars_taken_sum</th>\n",
              "      <th>BlueCars_returned_sum</th>\n",
              "      <th>strata</th>\n",
              "    </tr>\n",
              "  </thead>\n",
              "  <tbody>\n",
              "    <tr>\n",
              "      <th>count</th>\n",
              "      <td>70.000000</td>\n",
              "      <td>70.000000</td>\n",
              "      <td>70.000000</td>\n",
              "      <td>70.000000</td>\n",
              "      <td>70.0</td>\n",
              "    </tr>\n",
              "    <tr>\n",
              "      <th>mean</th>\n",
              "      <td>93341.285714</td>\n",
              "      <td>5.442857</td>\n",
              "      <td>45.371429</td>\n",
              "      <td>44.628571</td>\n",
              "      <td>5.0</td>\n",
              "    </tr>\n",
              "    <tr>\n",
              "      <th>std</th>\n",
              "      <td>175.506897</td>\n",
              "      <td>0.500310</td>\n",
              "      <td>50.805732</td>\n",
              "      <td>50.659755</td>\n",
              "      <td>0.0</td>\n",
              "    </tr>\n",
              "    <tr>\n",
              "      <th>min</th>\n",
              "      <td>93100.000000</td>\n",
              "      <td>5.000000</td>\n",
              "      <td>0.000000</td>\n",
              "      <td>1.000000</td>\n",
              "      <td>5.0</td>\n",
              "    </tr>\n",
              "    <tr>\n",
              "      <th>25%</th>\n",
              "      <td>93230.000000</td>\n",
              "      <td>5.000000</td>\n",
              "      <td>9.250000</td>\n",
              "      <td>9.500000</td>\n",
              "      <td>5.0</td>\n",
              "    </tr>\n",
              "    <tr>\n",
              "      <th>50%</th>\n",
              "      <td>93310.000000</td>\n",
              "      <td>5.000000</td>\n",
              "      <td>27.000000</td>\n",
              "      <td>23.000000</td>\n",
              "      <td>5.0</td>\n",
              "    </tr>\n",
              "    <tr>\n",
              "      <th>75%</th>\n",
              "      <td>93400.000000</td>\n",
              "      <td>6.000000</td>\n",
              "      <td>57.750000</td>\n",
              "      <td>56.500000</td>\n",
              "      <td>5.0</td>\n",
              "    </tr>\n",
              "    <tr>\n",
              "      <th>max</th>\n",
              "      <td>93800.000000</td>\n",
              "      <td>6.000000</td>\n",
              "      <td>245.000000</td>\n",
              "      <td>231.000000</td>\n",
              "      <td>5.0</td>\n",
              "    </tr>\n",
              "  </tbody>\n",
              "</table>\n",
              "</div>"
            ],
            "text/plain": [
              "        Postal code  dayOfWeek  BlueCars_taken_sum  BlueCars_returned_sum  strata\n",
              "count     70.000000  70.000000           70.000000              70.000000    70.0\n",
              "mean   93341.285714   5.442857           45.371429              44.628571     5.0\n",
              "std      175.506897   0.500310           50.805732              50.659755     0.0\n",
              "min    93100.000000   5.000000            0.000000               1.000000     5.0\n",
              "25%    93230.000000   5.000000            9.250000               9.500000     5.0\n",
              "50%    93310.000000   5.000000           27.000000              23.000000     5.0\n",
              "75%    93400.000000   6.000000           57.750000              56.500000     5.0\n",
              "max    93800.000000   6.000000          245.000000             231.000000     5.0"
            ]
          },
          "metadata": {
            "tags": []
          },
          "execution_count": 247
        }
      ]
    },
    {
      "cell_type": "code",
      "metadata": {
        "id": "sQoUiTmM7zuT",
        "colab_type": "code",
        "outputId": "292e247e-c03b-4fe0-cd9f-155b64737626",
        "colab": {}
      },
      "source": [
        "df_bc_sample_paris.describe()"
      ],
      "execution_count": 0,
      "outputs": [
        {
          "output_type": "execute_result",
          "data": {
            "text/html": [
              "<div>\n",
              "<style>\n",
              "    .dataframe thead tr:only-child th {\n",
              "        text-align: right;\n",
              "    }\n",
              "\n",
              "    .dataframe thead th {\n",
              "        text-align: left;\n",
              "    }\n",
              "\n",
              "    .dataframe tbody tr th {\n",
              "        vertical-align: top;\n",
              "    }\n",
              "</style>\n",
              "<table border=\"1\" class=\"dataframe\">\n",
              "  <thead>\n",
              "    <tr style=\"text-align: right;\">\n",
              "      <th></th>\n",
              "      <th>Postal code</th>\n",
              "      <th>dayOfWeek</th>\n",
              "      <th>BlueCars_taken_sum</th>\n",
              "      <th>BlueCars_returned_sum</th>\n",
              "      <th>strata</th>\n",
              "    </tr>\n",
              "  </thead>\n",
              "  <tbody>\n",
              "    <tr>\n",
              "      <th>count</th>\n",
              "      <td>98.000000</td>\n",
              "      <td>98.000000</td>\n",
              "      <td>98.000000</td>\n",
              "      <td>98.000000</td>\n",
              "      <td>98.0</td>\n",
              "    </tr>\n",
              "    <tr>\n",
              "      <th>mean</th>\n",
              "      <td>75021.030612</td>\n",
              "      <td>5.479592</td>\n",
              "      <td>451.234694</td>\n",
              "      <td>453.173469</td>\n",
              "      <td>1.0</td>\n",
              "    </tr>\n",
              "    <tr>\n",
              "      <th>std</th>\n",
              "      <td>32.070301</td>\n",
              "      <td>0.502152</td>\n",
              "      <td>283.564019</td>\n",
              "      <td>283.856324</td>\n",
              "      <td>0.0</td>\n",
              "    </tr>\n",
              "    <tr>\n",
              "      <th>min</th>\n",
              "      <td>75001.000000</td>\n",
              "      <td>5.000000</td>\n",
              "      <td>9.000000</td>\n",
              "      <td>9.000000</td>\n",
              "      <td>1.0</td>\n",
              "    </tr>\n",
              "    <tr>\n",
              "      <th>25%</th>\n",
              "      <td>75006.000000</td>\n",
              "      <td>5.000000</td>\n",
              "      <td>249.500000</td>\n",
              "      <td>254.500000</td>\n",
              "      <td>1.0</td>\n",
              "    </tr>\n",
              "    <tr>\n",
              "      <th>50%</th>\n",
              "      <td>75012.000000</td>\n",
              "      <td>5.000000</td>\n",
              "      <td>417.000000</td>\n",
              "      <td>420.500000</td>\n",
              "      <td>1.0</td>\n",
              "    </tr>\n",
              "    <tr>\n",
              "      <th>75%</th>\n",
              "      <td>75018.000000</td>\n",
              "      <td>6.000000</td>\n",
              "      <td>648.000000</td>\n",
              "      <td>642.750000</td>\n",
              "      <td>1.0</td>\n",
              "    </tr>\n",
              "    <tr>\n",
              "      <th>max</th>\n",
              "      <td>75116.000000</td>\n",
              "      <td>6.000000</td>\n",
              "      <td>1186.000000</td>\n",
              "      <td>1142.000000</td>\n",
              "      <td>1.0</td>\n",
              "    </tr>\n",
              "  </tbody>\n",
              "</table>\n",
              "</div>"
            ],
            "text/plain": [
              "        Postal code  dayOfWeek  BlueCars_taken_sum  BlueCars_returned_sum  strata\n",
              "count     98.000000  98.000000           98.000000              98.000000    98.0\n",
              "mean   75021.030612   5.479592          451.234694             453.173469     1.0\n",
              "std       32.070301   0.502152          283.564019             283.856324     0.0\n",
              "min    75001.000000   5.000000            9.000000               9.000000     1.0\n",
              "25%    75006.000000   5.000000          249.500000             254.500000     1.0\n",
              "50%    75012.000000   5.000000          417.000000             420.500000     1.0\n",
              "75%    75018.000000   6.000000          648.000000             642.750000     1.0\n",
              "max    75116.000000   6.000000         1186.000000            1142.000000     1.0"
            ]
          },
          "metadata": {
            "tags": []
          },
          "execution_count": 248
        }
      ]
    },
    {
      "cell_type": "markdown",
      "metadata": {
        "id": "PGqYevaP7zuZ",
        "colab_type": "text"
      },
      "source": [
        "## Hypothesis Testing"
      ]
    },
    {
      "cell_type": "markdown",
      "metadata": {
        "id": "KCo9jMiY7zud",
        "colab_type": "text"
      },
      "source": [
        "#### a) Hypothesis"
      ]
    },
    {
      "cell_type": "markdown",
      "metadata": {
        "id": "CQeVYeUs7zuf",
        "colab_type": "text"
      },
      "source": [
        "#### Null Hypothesis :\n",
        "Average number of cars returned in Paris over weekends is same as those returned in Seine Saint Denis.\n",
        "\n",
        "#### Alternative Hypothesis: \n",
        "Average number of cars returned in Paris over weekends is not the same as those returned in Seine Saint Denis.\n",
        "\n",
        "Ho :  μ of Paris = μ of Seine Saint Denis\n",
        "\n",
        "Ha :  μ of Paris ≠ μ of Seine Saint Denis\n",
        "\n",
        "So, the test is for two independent samples similar to what is specified here http://sphweb.bumc.bu.edu/otlt/MPH-Modules/BS/BS704_HypothesisTest-Means-Proportions/BS704_HypothesisTest-Means-Proportions6.html\n"
      ]
    },
    {
      "cell_type": "markdown",
      "metadata": {
        "id": "rFGZKWCI7zui",
        "colab_type": "text"
      },
      "source": [
        "#### b) Significance Level"
      ]
    },
    {
      "cell_type": "markdown",
      "metadata": {
        "id": "4c1Jg93E7zuo",
        "colab_type": "text"
      },
      "source": [
        "Significance level of to validate the hypothesis above is 0.05 "
      ]
    },
    {
      "cell_type": "markdown",
      "metadata": {
        "id": "rGtdLfbG7zup",
        "colab_type": "text"
      },
      "source": [
        "#### c) Test Statistic"
      ]
    },
    {
      "cell_type": "code",
      "metadata": {
        "id": "Jcb7d-Dj7zur",
        "colab_type": "code",
        "outputId": "7564a41c-0a7c-4cc1-e35b-003941035c30",
        "colab": {}
      },
      "source": [
        "print(\"n1 = Paris: \",df_bc_sample_ssd.shape)\n",
        "print(\"n2 = Seine-Saint-Denis\",df_bc_sample_paris.shape)"
      ],
      "execution_count": 0,
      "outputs": [
        {
          "output_type": "stream",
          "text": [
            "n1 = Paris:  (70, 7)\n",
            "n2 = Seine-Saint-Denis (98, 7)\n"
          ],
          "name": "stdout"
        }
      ]
    },
    {
      "cell_type": "code",
      "metadata": {
        "id": "GL8h_Ej_7zux",
        "colab_type": "code",
        "outputId": "f080a1ff-bca9-40ab-f9c9-4b223faeceee",
        "colab": {}
      },
      "source": [
        "#Paris Distribution\n",
        "df_bc_sample_paris['BlueCars_taken_sum'].hist()\n",
        "plt.show()"
      ],
      "execution_count": 0,
      "outputs": [
        {
          "output_type": "display_data",
          "data": {
            "image/png": "[encoded data removed]",
            "text/plain": [
              "<matplotlib.figure.Figure at 0x7fcb24f90ba8>"
            ]
          },
          "metadata": {
            "tags": []
          }
        }
      ]
    },
    {
      "cell_type": "markdown",
      "metadata": {
        "id": "DW-o1-vG7zu3",
        "colab_type": "text"
      },
      "source": [
        "Conclusion:\n",
        "\n",
        "if n1 > 30 and n2 > 30\n",
        "![image.png](attachment:image.png)\n",
        "\n",
        "if n1 < 30 or n2 < 30\n",
        "![image.png](attachment:image.png) where df =n1+n2-2.\n",
        "\n",
        "Population is greater than 30 so Z statistic to be used"
      ]
    },
    {
      "cell_type": "markdown",
      "metadata": {
        "id": "uzro00Ak7zu4",
        "colab_type": "text"
      },
      "source": [
        "#### d) Z- score and P-Value Calculation"
      ]
    },
    {
      "cell_type": "code",
      "metadata": {
        "id": "hUUo3B5E7zu5",
        "colab_type": "code",
        "outputId": "37aaa437-f909-4d7d-87d3-c9d1ef813769",
        "colab": {}
      },
      "source": [
        "def calculate_zscore(sample1, sample2):\n",
        "    ztest ,pval1 = stests.ztest(sample1, x2=sample2, value=0,alternative='two-sided')\n",
        "    print(float(pval1))\n",
        "    return (ztest ,pval1)\n",
        "    \n",
        "def hypothesis_eval(p_value,alpha):\n",
        "  #P-value <= significance level (a) => Reject your null hypothesis in favor of your alternative hypothesis.  Your result is statistically significant.\n",
        "  if p_value < alpha:\n",
        "    result = \"Reject the null hypothesis and conclude that the effect is statistically significant\"\n",
        "  else:\n",
        "    #P-value > significance level (a) => Fail to reject your null hypothesis.  Your result is not statistically significant.\n",
        "    result = \"Fail to reject the null hypothesis\"\n",
        "  return result\n",
        "\n",
        "def initialize_variables():\n",
        "  HoP = 'mu for Paris is equal to Seine-Saint-Denis'\n",
        "  HaP = 'mu for Paris is not equal to Seine-Saint-Denis'\n",
        "  paris_bar = get_mean(df_bc_sample_paris['BlueCars_taken_sum']) # Paris Mean\n",
        "  ssd_bar = get_mean(df_bc_sample_ssd['BlueCars_taken_sum']) # SSD Mean \n",
        "  paris_n =df_bc_sample_paris.shape[0]   #n1                          \n",
        "  ssd_n =df_bc_sample_ssd.shape[0]  #n2\n",
        "  paris_sigma = np.std(df_bc_sample_paris['BlueCars_taken_sum']) #Standard Deviation of paris\n",
        "  ssd_sigma = np.std(df_bc_sample_ssd['BlueCars_taken_sum']) #Standard Deviation of ssd\n",
        "  pop_sigma = 0\n",
        "  alpha = 0.05\n",
        "  return (HoP,HaP,paris_bar,ssd_bar, paris_n,ssd_n,paris_sigma,ssd_sigma,alpha)\n",
        "  \n",
        "#Function to calculate all\n",
        "def calculate_all():\n",
        "  HoP,HaP, x1bar,x2bar, paris_n,ssd_n,paris_sigma,ssd_sigma,alpha = initialize_variables()\n",
        "  z_score , p_value = calculate_zscore(df_bc_sample_paris['BlueCars_taken_sum']\n",
        "                                      ,df_bc_sample_ssd['BlueCars_taken_sum'])\n",
        "  print(\"Z score\" , z_score, \" P value \", p_value )\n",
        "  result = hypothesis_eval(p_value,alpha)\n",
        "  print(\"Hypothesis: Null: \",HoP)\n",
        "  print(\"Alternate:\",HaP, ' Alpha ',alpha)\n",
        "  print(\"Significance Level / Alpha is \",alpha)\n",
        "  print(\"Paris Mean: \",x1bar, \" SSD Mean :\",x2bar )\n",
        "  print('x_bar ', x1bar,  'ssd_n',ssd_n,'paris_sigma ',paris_sigma,' ssd_sigma ',ssd_sigma)\n",
        "  print(\"Z score is\", z_score,\"P value is\", p_value)\n",
        "  print(result)\n",
        "\n",
        "calculate_all()"
      ],
      "execution_count": 0,
      "outputs": [
        {
          "output_type": "stream",
          "text": [
            "2.7166660130853144e-32\n",
            "Z score 11.830454560103707  P value  2.7166660130853144e-32\n",
            "Hypothesis: Null:  mu for Paris is equal to Seine-Saint-Denis\n",
            "Alternate: mu for Paris is not equal to Seine-Saint-Denis  Alpha  0.05\n",
            "Significance Level / Alpha is  0.05\n",
            "Paris Mean:  451  SSD Mean : 45\n",
            "x_bar  451 ssd_n 70 paris_sigma  282.1135536688761  ssd_sigma  50.44152808056116\n",
            "Z score is 11.830454560103707 P value is 2.7166660130853144e-32\n",
            "Reject the null hypothesis and conclude that the effect is statistically significant\n"
          ],
          "name": "stdout"
        }
      ]
    },
    {
      "cell_type": "markdown",
      "metadata": {
        "id": "4FB879AS7zu9",
        "colab_type": "text"
      },
      "source": [
        "Above calculation has Z score being too high which is likely to result to erroneous conclusion.\n",
        "The z score is high because of outliers. Therebeing, will drop the outliers then re-calculate."
      ]
    },
    {
      "cell_type": "markdown",
      "metadata": {
        "id": "QAeeuC-n7zu-",
        "colab_type": "text"
      },
      "source": [
        "### Dropping outliers"
      ]
    },
    {
      "cell_type": "markdown",
      "metadata": {
        "id": "3CDoNLd_7zu-",
        "colab_type": "text"
      },
      "source": [
        "a) Paris Dataset"
      ]
    },
    {
      "cell_type": "code",
      "metadata": {
        "id": "mZWxD29M7zu_",
        "colab_type": "code",
        "colab": {}
      },
      "source": [
        "#------------------------------------------------------------------------------\n",
        "#------------------------------------------------------------------------------\n",
        "# accept a dataframe, remove outliers, return cleaned data in a new dataframe\n",
        "# see http://www.itl.nist.gov/div898/handbook/prc/section1/prc16.htm\n",
        "#------------------------------------------------------------------------------\n",
        "def remove_outlier(df_in, col_name):\n",
        "    q1 = df_in[col_name].quantile(0.25)\n",
        "    q3 = df_in[col_name].quantile(0.75)\n",
        "    iqr = q3-q1 #Interquartile range\n",
        "    fence_low  = q1-1.5*iqr\n",
        "    fence_high = q3+1.5*iqr\n",
        "    df_out = df_in.loc[(df_in[col_name] > fence_low) & (df_in[col_name] < fence_high)]\n",
        "    return df_out"
      ],
      "execution_count": 0,
      "outputs": []
    },
    {
      "cell_type": "code",
      "metadata": {
        "id": "8DVPHgoT7zvC",
        "colab_type": "code",
        "colab": {}
      },
      "source": [
        "#Sample with no outliers\n",
        "df_out = remove_outlier(df_bc_strat,'BlueCars_taken_sum')\n",
        "#SSD sample\n",
        "df_out_out_ssd = df_out[ (df_out['strata']==5) & (df_out['day_type']=='weekend')]\n",
        "df_out_out_ssd = df_out_out_ssd.copy()\n",
        "#Paris Sample\n",
        "df_out_out_paris = df_out[ (df_out['strata']==1) & (df_out['day_type']=='weekend')]\n",
        "df_out_out_paris = df_out_out_paris.copy()"
      ],
      "execution_count": 0,
      "outputs": []
    },
    {
      "cell_type": "code",
      "metadata": {
        "id": "K4arRdD_7zvG",
        "colab_type": "code",
        "outputId": "7fc13929-1fb6-4291-979d-522b4937b595",
        "colab": {}
      },
      "source": [
        "df_bc_sample_ssd.shape"
      ],
      "execution_count": 0,
      "outputs": [
        {
          "output_type": "execute_result",
          "data": {
            "text/plain": [
              "(70, 7)"
            ]
          },
          "metadata": {
            "tags": []
          },
          "execution_count": 254
        }
      ]
    },
    {
      "cell_type": "code",
      "metadata": {
        "id": "5gcEJiBL7zvJ",
        "colab_type": "code",
        "outputId": "5931f08f-c86e-4956-a316-7b60d21ebfd8",
        "colab": {}
      },
      "source": [
        "#Calculate z score and pvalue\n",
        "def initialize_variables():\n",
        "  HoP = 'mu for Paris is equal to Seine-Saint-Denis'\n",
        "  HaP = 'mu for Paris is not equal to Seine-Saint-Denis'\n",
        "  paris_bar = get_mean(df_bc_sample_paris['BlueCars_taken_sum']) # Paris Mean\n",
        "  ssd_bar = get_mean(df_bc_sample_ssd['BlueCars_taken_sum']) # SSD Mean \n",
        "  paris_n =df_out_out_ssd.shape[0]   #n1                          \n",
        "  ssd_n =df_out_out_paris.shape[0]  #n2\n",
        "  paris_sigma = np.std(df_out_out_ssd['BlueCars_taken_sum']) #Standard Deviation of paris\n",
        "  ssd_sigma = np.std(df_out_out_paris['BlueCars_taken_sum']) #Standard Deviation of ssd\n",
        "  pop_sigma = 0\n",
        "  alpha = 0.05\n",
        "  return (HoP,HaP,paris_bar,ssd_bar, paris_n,ssd_n,paris_sigma,ssd_sigma,alpha)\n",
        "  \n",
        "#Function to calculate all\n",
        "def calculate_all():\n",
        "  HoP,HaP, x1bar,x2bar, paris_n,ssd_n,paris_sigma,ssd_sigma,alpha = initialize_variables()\n",
        "  z_score , p_value = calculate_zscore(df_out_out_ssd['BlueCars_taken_sum']\n",
        "                                      ,df_out_out_paris['BlueCars_taken_sum'])\n",
        "  print(\"Z score\" , z_score, \" P value \", p_value )\n",
        "  result = hypothesis_eval(p_value,alpha)\n",
        "  print(\"Hypothesis: Null: \",HoP)\n",
        "  print(\"Alternate:\",HaP, ' Alpha ',alpha)\n",
        "  print(\"Significance Level / Alpha is \",alpha)\n",
        "  print(\"Paris Mean: \",x1bar, \" SSD Mean :\",x2bar )\n",
        "  print('x_bar ', x1bar,  'ssd_n',ssd_n,'paris_sigma ',paris_sigma,' ssd_sigma ',ssd_sigma)\n",
        "  print(\"Z score is\", z_score,\"P value is\", p_value)\n",
        "  print(result)\n",
        "\n",
        "calculate_all()"
      ],
      "execution_count": 0,
      "outputs": [
        {
          "output_type": "stream",
          "text": [
            "1.527956353696186e-11\n",
            "Z score -6.745219706749452  P value  1.527956353696186e-11\n",
            "Hypothesis: Null:  mu for Paris is equal to Seine-Saint-Denis\n",
            "Alternate: mu for Paris is not equal to Seine-Saint-Denis  Alpha  0.05\n",
            "Significance Level / Alpha is  0.05\n",
            "Paris Mean:  451  SSD Mean : 45\n",
            "x_bar  451 ssd_n 35 paris_sigma  50.44152808056116  ssd_sigma  114.60798846680873\n",
            "Z score is -6.745219706749452 P value is 1.527956353696186e-11\n",
            "Reject the null hypothesis and conclude that the effect is statistically significant\n"
          ],
          "name": "stdout"
        }
      ]
    },
    {
      "cell_type": "markdown",
      "metadata": {
        "id": "RkfWlSho7zvQ",
        "colab_type": "text"
      },
      "source": [
        "## Summary"
      ]
    },
    {
      "cell_type": "markdown",
      "metadata": {
        "id": "iBEkixHv7zvR",
        "colab_type": "text"
      },
      "source": [
        "Outcome: The Null that mean of paris is same as mean of Seine-Saint-Denis is rejected with a P-Value of 1.527956353696186e-11.\n",
        "\n",
        "The average daily returned cars in Paris is 465 against that of Seine-Saint-Denisof 41.\n",
        "\n",
        "Notably, this is after dropping of outliers. The outliers were dropped as data was not normally distributed which causes failure in usage of z test. It's proposed a further test mechanism is explored which includes the outliers. Dropping of may result to Type 1 error.\n"
      ]
    }
  ]
}